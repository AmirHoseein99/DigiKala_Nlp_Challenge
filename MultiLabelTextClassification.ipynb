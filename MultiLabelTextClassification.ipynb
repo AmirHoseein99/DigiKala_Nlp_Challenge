{
  "nbformat": 4,
  "nbformat_minor": 0,
  "metadata": {
    "colab": {
      "provenance": [],
      "machine_shape": "hm",
      "include_colab_link": true
    },
    "kernelspec": {
      "name": "python3",
      "display_name": "Python 3"
    },
    "gpuClass": "standard"
  },
  "cells": [
    {
      "cell_type": "markdown",
      "metadata": {
        "id": "view-in-github",
        "colab_type": "text"
      },
      "source": [
        "<a href=\"https://colab.research.google.com/github/AmirHoseein99/DigiKala_Nlp_Challenge/blob/master/MultiLabelTextClassification.ipynb\" target=\"_parent\"><img src=\"https://colab.research.google.com/assets/colab-badge.svg\" alt=\"Open In Colab\"/></a>"
      ]
    },
    {
      "cell_type": "code",
      "source": [
        "!pip install hazm\n",
        "!pip install clean-text\n",
        "!pip install catboost\n",
        "!pip install imbalanced-learn"
      ],
      "metadata": {
        "id": "MQPRyncu2Tdq"
      },
      "execution_count": null,
      "outputs": []
    },
    {
      "cell_type": "code",
      "source": [
        "from google.colab import drive\n",
        "drive.mount('/content/drive')"
      ],
      "metadata": {
        "colab": {
          "base_uri": "https://localhost:8080/"
        },
        "id": "UQE0HfF82U5e",
        "outputId": "35d1ffef-81bc-48bb-8faa-453ff95c4b7d"
      },
      "execution_count": 4,
      "outputs": [
        {
          "output_type": "stream",
          "name": "stdout",
          "text": [
            "Mounted at /content/drive\n"
          ]
        }
      ]
    },
    {
      "cell_type": "code",
      "source": [
        "import warnings\n",
        "warnings.filterwarnings(\"ignore\")\n",
        "\n",
        "import re\n",
        "from hazm import *\n",
        "import pandas as pd\n",
        "import numpy as np\n",
        "import seaborn as sns\n",
        "from cleantext import clean\n",
        "from xgboost import XGBClassifier\n",
        "from lightgbm import LGBMClassifier\n",
        "from matplotlib import pyplot as plt \n",
        "from sklearn.metrics import roc_curve\n",
        "from catboost import CatBoostClassifier\n",
        "from sklearn.model_selection import KFold\n",
        "from sklearn.metrics import roc_auc_score\n",
        "from sklearn.pipeline import make_pipeline\n",
        "from sklearn.ensemble import VotingClassifier\n",
        "from sklearn.preprocessing import LabelEncoder\n",
        "from sklearn.linear_model import LinearRegression\n",
        "from sklearn.model_selection import cross_validate\n",
        "from sklearn.metrics import f1_score, accuracy_score\n",
        "from sklearn.model_selection import train_test_split\n",
        "from sklearn.metrics import f1_score, accuracy_score\n",
        "from sklearn.multioutput import MultiOutputClassifier\n",
        "from tensorflow.keras.preprocessing.text import Tokenizer\n",
        "from imblearn.over_sampling import SMOTE, RandomOverSampler\n",
        "from imblearn.pipeline import make_pipeline as imb_pipeline\n",
        "from sklearn.feature_extraction.text import TfidfVectorizer"
      ],
      "metadata": {
        "id": "ELsxiWl02Ro2"
      },
      "execution_count": 43,
      "outputs": []
    },
    {
      "cell_type": "code",
      "source": [
        "!unzip \"/content/drive/MyDrive/Colab Notebooks/DataScience/DigikalaCup/Datasets/Q_4/Q_4Intent_analysis.zip\""
      ],
      "metadata": {
        "id": "wEj99gW_2Rrg",
        "colab": {
          "base_uri": "https://localhost:8080/"
        },
        "outputId": "fd807d7f-ee4d-450a-bbb4-d8eb11d07c01"
      },
      "execution_count": 8,
      "outputs": [
        {
          "output_type": "stream",
          "name": "stdout",
          "text": [
            "Archive:  /content/drive/MyDrive/Colab Notebooks/DataScience/DigikalaCup/Datasets/Q_4/Q_4Intent_analysis.zip\n",
            "  inflating: test.csv                \n",
            "  inflating: train.csv               \n"
          ]
        }
      ]
    },
    {
      "cell_type": "code",
      "source": [
        "train_set = pd.read_csv(\"/content/train.csv\", low_memory=False)\n",
        "print(10 * '*' + str(train_set.shape) + 10 * '*')\n",
        "train_set.head(3)"
      ],
      "metadata": {
        "colab": {
          "base_uri": "https://localhost:8080/",
          "height": 257
        },
        "id": "AamKbYDL2RuN",
        "outputId": "bfd30f5c-c59a-4774-82b4-12d400e9cf26"
      },
      "execution_count": 26,
      "outputs": [
        {
          "output_type": "stream",
          "name": "stdout",
          "text": [
            "**********(224130, 14)**********\n"
          ]
        },
        {
          "output_type": "execute_result",
          "data": {
            "text/plain": [
              "          id                                            comment product_id  \\\n",
              "0  1215666.0                                        ارزششو داشت    2802959   \n",
              "1  1183149.0  یه دستگاه کاربردی فقط ای کاش طرز استفادشو میزد...    1894596   \n",
              "2  1011730.0                                   خیلی خوب و ارزان     323729   \n",
              "\n",
              "                                    product_title_fa category_id  \\\n",
              "0     جوراب مردانه فیرو پلاس مدل FP200 مجموعه 4 عددی      9456.0   \n",
              "1     دستگاه سفید کننده دندان دنتال وایت مدل DT-1244      5745.0   \n",
              "2  کتاب بهترین قصه ملانصرالدین کلک مرغابی اثر مهر...      5918.0   \n",
              "\n",
              "    category_title_fa is_buyer  price_value  fake_originality  warranty  size  \\\n",
              "0  جوراب و ساق مردانه     True          1.0               0.0       0.0   0.0   \n",
              "1          مسواک برقی     True          0.0               0.0       0.0   0.0   \n",
              "2           کتاب چاپی     True          1.0               0.0       0.0   0.0   \n",
              "\n",
              "   discrepancy  flavor_odor  expiration_date  \n",
              "0          0.0          0.0              0.0  \n",
              "1          0.0          0.0              0.0  \n",
              "2          0.0          0.0              0.0  "
            ],
            "text/html": [
              "\n",
              "  <div id=\"df-ea21fbf9-1786-4e32-b301-be25a2cc2d20\">\n",
              "    <div class=\"colab-df-container\">\n",
              "      <div>\n",
              "<style scoped>\n",
              "    .dataframe tbody tr th:only-of-type {\n",
              "        vertical-align: middle;\n",
              "    }\n",
              "\n",
              "    .dataframe tbody tr th {\n",
              "        vertical-align: top;\n",
              "    }\n",
              "\n",
              "    .dataframe thead th {\n",
              "        text-align: right;\n",
              "    }\n",
              "</style>\n",
              "<table border=\"1\" class=\"dataframe\">\n",
              "  <thead>\n",
              "    <tr style=\"text-align: right;\">\n",
              "      <th></th>\n",
              "      <th>id</th>\n",
              "      <th>comment</th>\n",
              "      <th>product_id</th>\n",
              "      <th>product_title_fa</th>\n",
              "      <th>category_id</th>\n",
              "      <th>category_title_fa</th>\n",
              "      <th>is_buyer</th>\n",
              "      <th>price_value</th>\n",
              "      <th>fake_originality</th>\n",
              "      <th>warranty</th>\n",
              "      <th>size</th>\n",
              "      <th>discrepancy</th>\n",
              "      <th>flavor_odor</th>\n",
              "      <th>expiration_date</th>\n",
              "    </tr>\n",
              "  </thead>\n",
              "  <tbody>\n",
              "    <tr>\n",
              "      <th>0</th>\n",
              "      <td>1215666.0</td>\n",
              "      <td>ارزششو داشت</td>\n",
              "      <td>2802959</td>\n",
              "      <td>جوراب مردانه فیرو پلاس مدل FP200 مجموعه 4 عددی</td>\n",
              "      <td>9456.0</td>\n",
              "      <td>جوراب و ساق مردانه</td>\n",
              "      <td>True</td>\n",
              "      <td>1.0</td>\n",
              "      <td>0.0</td>\n",
              "      <td>0.0</td>\n",
              "      <td>0.0</td>\n",
              "      <td>0.0</td>\n",
              "      <td>0.0</td>\n",
              "      <td>0.0</td>\n",
              "    </tr>\n",
              "    <tr>\n",
              "      <th>1</th>\n",
              "      <td>1183149.0</td>\n",
              "      <td>یه دستگاه کاربردی فقط ای کاش طرز استفادشو میزد...</td>\n",
              "      <td>1894596</td>\n",
              "      <td>دستگاه سفید کننده دندان دنتال وایت مدل DT-1244</td>\n",
              "      <td>5745.0</td>\n",
              "      <td>مسواک برقی</td>\n",
              "      <td>True</td>\n",
              "      <td>0.0</td>\n",
              "      <td>0.0</td>\n",
              "      <td>0.0</td>\n",
              "      <td>0.0</td>\n",
              "      <td>0.0</td>\n",
              "      <td>0.0</td>\n",
              "      <td>0.0</td>\n",
              "    </tr>\n",
              "    <tr>\n",
              "      <th>2</th>\n",
              "      <td>1011730.0</td>\n",
              "      <td>خیلی خوب و ارزان</td>\n",
              "      <td>323729</td>\n",
              "      <td>کتاب بهترین قصه ملانصرالدین کلک مرغابی اثر مهر...</td>\n",
              "      <td>5918.0</td>\n",
              "      <td>کتاب چاپی</td>\n",
              "      <td>True</td>\n",
              "      <td>1.0</td>\n",
              "      <td>0.0</td>\n",
              "      <td>0.0</td>\n",
              "      <td>0.0</td>\n",
              "      <td>0.0</td>\n",
              "      <td>0.0</td>\n",
              "      <td>0.0</td>\n",
              "    </tr>\n",
              "  </tbody>\n",
              "</table>\n",
              "</div>\n",
              "      <button class=\"colab-df-convert\" onclick=\"convertToInteractive('df-ea21fbf9-1786-4e32-b301-be25a2cc2d20')\"\n",
              "              title=\"Convert this dataframe to an interactive table.\"\n",
              "              style=\"display:none;\">\n",
              "        \n",
              "  <svg xmlns=\"http://www.w3.org/2000/svg\" height=\"24px\"viewBox=\"0 0 24 24\"\n",
              "       width=\"24px\">\n",
              "    <path d=\"M0 0h24v24H0V0z\" fill=\"none\"/>\n",
              "    <path d=\"M18.56 5.44l.94 2.06.94-2.06 2.06-.94-2.06-.94-.94-2.06-.94 2.06-2.06.94zm-11 1L8.5 8.5l.94-2.06 2.06-.94-2.06-.94L8.5 2.5l-.94 2.06-2.06.94zm10 10l.94 2.06.94-2.06 2.06-.94-2.06-.94-.94-2.06-.94 2.06-2.06.94z\"/><path d=\"M17.41 7.96l-1.37-1.37c-.4-.4-.92-.59-1.43-.59-.52 0-1.04.2-1.43.59L10.3 9.45l-7.72 7.72c-.78.78-.78 2.05 0 2.83L4 21.41c.39.39.9.59 1.41.59.51 0 1.02-.2 1.41-.59l7.78-7.78 2.81-2.81c.8-.78.8-2.07 0-2.86zM5.41 20L4 18.59l7.72-7.72 1.47 1.35L5.41 20z\"/>\n",
              "  </svg>\n",
              "      </button>\n",
              "      \n",
              "  <style>\n",
              "    .colab-df-container {\n",
              "      display:flex;\n",
              "      flex-wrap:wrap;\n",
              "      gap: 12px;\n",
              "    }\n",
              "\n",
              "    .colab-df-convert {\n",
              "      background-color: #E8F0FE;\n",
              "      border: none;\n",
              "      border-radius: 50%;\n",
              "      cursor: pointer;\n",
              "      display: none;\n",
              "      fill: #1967D2;\n",
              "      height: 32px;\n",
              "      padding: 0 0 0 0;\n",
              "      width: 32px;\n",
              "    }\n",
              "\n",
              "    .colab-df-convert:hover {\n",
              "      background-color: #E2EBFA;\n",
              "      box-shadow: 0px 1px 2px rgba(60, 64, 67, 0.3), 0px 1px 3px 1px rgba(60, 64, 67, 0.15);\n",
              "      fill: #174EA6;\n",
              "    }\n",
              "\n",
              "    [theme=dark] .colab-df-convert {\n",
              "      background-color: #3B4455;\n",
              "      fill: #D2E3FC;\n",
              "    }\n",
              "\n",
              "    [theme=dark] .colab-df-convert:hover {\n",
              "      background-color: #434B5C;\n",
              "      box-shadow: 0px 1px 3px 1px rgba(0, 0, 0, 0.15);\n",
              "      filter: drop-shadow(0px 1px 2px rgba(0, 0, 0, 0.3));\n",
              "      fill: #FFFFFF;\n",
              "    }\n",
              "  </style>\n",
              "\n",
              "      <script>\n",
              "        const buttonEl =\n",
              "          document.querySelector('#df-ea21fbf9-1786-4e32-b301-be25a2cc2d20 button.colab-df-convert');\n",
              "        buttonEl.style.display =\n",
              "          google.colab.kernel.accessAllowed ? 'block' : 'none';\n",
              "\n",
              "        async function convertToInteractive(key) {\n",
              "          const element = document.querySelector('#df-ea21fbf9-1786-4e32-b301-be25a2cc2d20');\n",
              "          const dataTable =\n",
              "            await google.colab.kernel.invokeFunction('convertToInteractive',\n",
              "                                                     [key], {});\n",
              "          if (!dataTable) return;\n",
              "\n",
              "          const docLinkHtml = 'Like what you see? Visit the ' +\n",
              "            '<a target=\"_blank\" href=https://colab.research.google.com/notebooks/data_table.ipynb>data table notebook</a>'\n",
              "            + ' to learn more about interactive tables.';\n",
              "          element.innerHTML = '';\n",
              "          dataTable['output_type'] = 'display_data';\n",
              "          await google.colab.output.renderOutput(dataTable, element);\n",
              "          const docLink = document.createElement('div');\n",
              "          docLink.innerHTML = docLinkHtml;\n",
              "          element.appendChild(docLink);\n",
              "        }\n",
              "      </script>\n",
              "    </div>\n",
              "  </div>\n",
              "  "
            ]
          },
          "metadata": {},
          "execution_count": 26
        }
      ]
    },
    {
      "cell_type": "markdown",
      "source": [
        "Find and Drop Null Rows in our Data"
      ],
      "metadata": {
        "id": "Dq_AnCm3nvPl"
      }
    },
    {
      "cell_type": "code",
      "source": [
        "np.sum(train_set.isna())"
      ],
      "metadata": {
        "colab": {
          "base_uri": "https://localhost:8080/"
        },
        "id": "Jcd1CqKNnvBZ",
        "outputId": "ea8e9a51-f68d-4ce1-f500-00964ef2dfa7"
      },
      "execution_count": null,
      "outputs": [
        {
          "output_type": "execute_result",
          "data": {
            "text/plain": [
              "id                   1\n",
              "comment              3\n",
              "product_id           1\n",
              "product_title_fa     1\n",
              "category_id          1\n",
              "category_title_fa    1\n",
              "is_buyer             1\n",
              "price_value          1\n",
              "fake_originality     1\n",
              "warranty             1\n",
              "size                 1\n",
              "discrepancy          1\n",
              "flavor_odor          1\n",
              "expiration_date      2\n",
              "dtype: int64"
            ]
          },
          "metadata": {},
          "execution_count": 6
        }
      ]
    },
    {
      "cell_type": "code",
      "source": [
        "train_set.dropna(inplace=True)\n",
        "train_set.shape"
      ],
      "metadata": {
        "colab": {
          "base_uri": "https://localhost:8080/"
        },
        "id": "KAwx_p712Rwl",
        "outputId": "b232aaf3-a715-43f8-da3f-6ef9c160ec61"
      },
      "execution_count": 29,
      "outputs": [
        {
          "output_type": "execute_result",
          "data": {
            "text/plain": [
              "(224125, 14)"
            ]
          },
          "metadata": {},
          "execution_count": 29
        }
      ]
    },
    {
      "cell_type": "code",
      "source": [
        "fig, axes = plt.subplots(2, 4, figsize=(30, 10))\n",
        "fig.suptitle('Label Distribution')\n",
        "colors = plt.rcParams[\"axes.prop_cycle\"]()\n",
        "i=0\n",
        "labels = train_set[[\"price_value\", \"fake_originality\", \"warranty\", \"size\", \"discrepancy\",\t\"flavor_odor\",\t\"expiration_date\"]]\n",
        "for label in labels.columns:\n",
        "  c = next(colors)[\"color\"]\n",
        "  loc = (0 if i<4 else 1, i if i<4 else i-4)\n",
        "  sns.histplot(labels[label], ax=axes[loc], color=c)\n",
        "  axes[loc].set_title(label)\n",
        "  axes[loc].set(xlabel=None)\n",
        "  axes[loc].set(ylabel=None)\n",
        "  i=i+1"
      ],
      "metadata": {
        "colab": {
          "base_uri": "https://localhost:8080/",
          "height": 663
        },
        "id": "kxETd9SRy1Ew",
        "outputId": "3b3c2787-a560-4fad-d53e-b0ccba3131e6"
      },
      "execution_count": 22,
      "outputs": [
        {
          "output_type": "display_data",
          "data": {
            "text/plain": [
              "<Figure size 2160x720 with 8 Axes>"
            ],
            "image/png": "[encoded data removed]"
          },
          "metadata": {
            "needs_background": "light"
          }
        }
      ]
    },
    {
      "cell_type": "code",
      "source": [
        "comment_length = np.array([len(comment.split(\" \")) for comment in train_set[\"comment\"]])\n",
        "_ = plt.figure(figsize=(15, 4))\n",
        "print(f\"max lenght: {comment_length.max()}, min length: {comment_length.min()}, average length: {int(comment_length.mean())}\")\n",
        "print(f\"25th percentile: {np.percentile(comment_length, 25)}, 50th percentile: {np.percentile(comment_length, 50)}, 75th percentile: {np.percentile(comment_length, 75)}\")\n",
        "_ = sns.boxplot(x=comment_length, color='skyblue')\n",
        "_ = plt.show()"
      ],
      "metadata": {
        "colab": {
          "base_uri": "https://localhost:8080/",
          "height": 300
        },
        "id": "2epqKgcuL0P-",
        "outputId": "9aad0562-c371-421a-bcc1-94687bf7715c"
      },
      "execution_count": 30,
      "outputs": [
        {
          "output_type": "stream",
          "name": "stdout",
          "text": [
            "max lenght: 1317, min length: 1, average length: 12\n",
            "25th percentile: 4.0, 50th percentile: 8.0, 75th percentile: 15.0\n"
          ]
        },
        {
          "output_type": "display_data",
          "data": {
            "text/plain": [
              "<Figure size 1080x288 with 1 Axes>"
            ],
            "image/png": "[encoded data removed]"
          },
          "metadata": {
            "needs_background": "light"
          }
        }
      ]
    },
    {
      "cell_type": "markdown",
      "source": [
        "Remove comments with len > 1.5 IQR"
      ],
      "metadata": {
        "id": "EXGuGmFZMcx-"
      }
    },
    {
      "cell_type": "code",
      "source": [
        "train_set[\"comment\"] = train_set.comment.apply(lambda x : x if len(x.strip(\" \")) < 17 else None)\n",
        "np.sum(train_set.isna())"
      ],
      "metadata": {
        "colab": {
          "base_uri": "https://localhost:8080/"
        },
        "id": "64nbUmJ9Mbgw",
        "outputId": "121d3be2-1fad-47bf-fa08-c39919065979"
      },
      "execution_count": 31,
      "outputs": [
        {
          "output_type": "execute_result",
          "data": {
            "text/plain": [
              "id                        0\n",
              "comment              184061\n",
              "product_id                0\n",
              "product_title_fa          0\n",
              "category_id               0\n",
              "category_title_fa         0\n",
              "is_buyer                  0\n",
              "price_value               0\n",
              "fake_originality          0\n",
              "warranty                  0\n",
              "size                      0\n",
              "discrepancy               0\n",
              "flavor_odor               0\n",
              "expiration_date           0\n",
              "dtype: int64"
            ]
          },
          "metadata": {},
          "execution_count": 31
        }
      ]
    },
    {
      "cell_type": "code",
      "source": [
        "train_set.dropna(inplace=True)\n",
        "print(train_set.shape)"
      ],
      "metadata": {
        "colab": {
          "base_uri": "https://localhost:8080/"
        },
        "id": "FdiadnbWOXWM",
        "outputId": "368ef9b1-f384-4db1-99b1-34752803fe96"
      },
      "execution_count": 32,
      "outputs": [
        {
          "output_type": "stream",
          "name": "stdout",
          "text": [
            "(40064, 14)\n"
          ]
        }
      ]
    },
    {
      "cell_type": "code",
      "source": [
        "comments = train_set[\"comment\"]\n",
        "labels = train_set[[\"price_value\", \"fake_originality\", \"warranty\", \"size\",\n",
        "                    \"discrepancy\",\t\"flavor_odor\",\t\"expiration_date\"]]"
      ],
      "metadata": {
        "id": "IEFuRjn3yPLb"
      },
      "execution_count": 33,
      "outputs": []
    },
    {
      "cell_type": "markdown",
      "source": [
        "Cleaning data with our valid Alphabets"
      ],
      "metadata": {
        "id": "DXcZccJjn7te"
      }
    },
    {
      "cell_type": "code",
      "source": [
        "persian_alphabet = [' ', 'ا', 'ی', 'ر', 'د', 'ن', 'و', 'ه', 'م', 'ت', 'ب', 'س', 'ک', 'ش', 'ل', 'ز',\n",
        "                   'خ', 'گ', 'ف', 'ق', 'پ', 'آ', 'ج', 'ع', 'ح', 'چ', 'ص', 'ط', 'غ', 'ض', 'ذ', 'ظ', 'ث', 'ژ']\n",
        "persian_erab = ['ٌ',\" \" , 'ً']\n",
        "\n",
        "persian_numbers = ['۲', '۵', '۳', '۴', '۱', '۶', '۸', '۹', '۷']\n",
        "\n",
        "lower_english_alphabet = ['a', 'b', 'c', 'd', 'e', 'f', 'g', 'h', 'i', 'j', 'k', 'l', 'm', 'n', 'o', 'p','q', 'r', 's', 't', 'w', 'x', 'y', 'z', 'u']\n",
        "\n",
        "capital_english_alphabet = [x.upper() for x in lower_english_alphabet]\n",
        "\n",
        "english_numbers = ['1', '2','3', '4' , '0', '9', '8', '7', '6', '5']"
      ],
      "metadata": {
        "id": "pkmZvgK32R1L"
      },
      "execution_count": 34,
      "outputs": []
    },
    {
      "cell_type": "code",
      "source": [
        "translate_dict = {\n",
        "          ord('ة') : ord('ه'),\n",
        "\t\t\t    ord('ك') : ord('ک'),\n",
        "          ord('ي') : ord('ی'),\n",
        "          ord('أ') : ord('ا'),\n",
        "          ord('ە') : ord('ه'),\n",
        "\t\t\t    ord('ہ') : ord('ه'),\n",
        "          ord('ے') : ord('ی'),\n",
        "          ord('ڪ') : ord('ک'),\n",
        "          ord('٦') : ord('۶'),\n",
        "\t\t\t    ord('٤') : ord('۴'),\n",
        "          ord('٥') : ord('۵'),\n",
        "          ord('ۻ') : ord('ض'),\n",
        "\t\t\t    ord('ڋ') : ord('د'),\n",
        "          ord('ڕ') : ord('ر'),\n",
        "          ord('ٻ') : ord('ب'),\n",
        "          ord('ڑ') : ord('ر'),\n",
        "\t\t\t    ord('ئ') : ord('ی'),\n",
        "          ord('ۀ') : ord('ه'),\n",
        "          }\n",
        "def clean_persian_text(text, allow_en=False, allow_eng_num=False, allow_fa_num=True):\n",
        "  text = text.strip()\n",
        "  text = Normalizer().normalize(text)\n",
        "  valid_chars = persian_alphabet + persian_numbers + lower_english_alphabet + english_numbers\n",
        "  text.translate(translate_dict)\n",
        "  text = ''.join([char for char in text if char in valid_chars])\n",
        "  return text"
      ],
      "metadata": {
        "id": "Gu8C1_fQ2R3j"
      },
      "execution_count": 35,
      "outputs": []
    },
    {
      "cell_type": "code",
      "source": [
        "!git clone https://github.com/kharazi/persian-stopwords.git\n",
        "\n",
        "with open(\"/content/persian-stopwords/persian\", \"r\") as f:\n",
        "  content = f.read()\n",
        "  stopwords_p = content.split(\"\\n\")\n",
        "  stopwords_p = stopwords_p[:-1]        \n",
        "with open(\"/content/persian-stopwords/short\", \"r\") as f:\n",
        "  content = f.read()\n",
        "  stopwords_s = content.split(\"\\n\")\n",
        "  stopwords_s = stopwords_s[:-1]\n",
        "\n",
        "with open(\"/content/persian-stopwords/verbal\", \"r\") as f:\n",
        "  content = f.read()\n",
        "  stopwords_v = content.split(\"\\n\")\n",
        "  stopwords_v = stopwords_v[:-1]\n",
        "\n",
        "with open(\"/content/persian-stopwords/nonverbal\", \"r\") as f :\n",
        "  content = f.read()\n",
        "  stopwords_nv = content.split(\"\\n\")\n",
        "  stopwords_nv = stopwords_nv[:-1]\n",
        "  \n",
        "\n",
        "fa_stopwords = set(stopwords_p + stopwords_s + stopwords_v + stopwords_nv)"
      ],
      "metadata": {
        "colab": {
          "base_uri": "https://localhost:8080/"
        },
        "id": "DK--9dEv2R5a",
        "outputId": "10f8a1e5-e07c-48b0-fa3d-1394336dd317"
      },
      "execution_count": 36,
      "outputs": [
        {
          "output_type": "stream",
          "name": "stdout",
          "text": [
            "fatal: destination path 'persian-stopwords' already exists and is not an empty directory.\n"
          ]
        }
      ]
    },
    {
      "cell_type": "code",
      "source": [
        "hzm_tokenize = WordTokenizer().tokenize\n",
        "hzm_lemmaitze = Lemmatizer(joined_verb_parts=False).lemmatize\n",
        "\n",
        "\n",
        "def my_toknizer(text):\n",
        "  text_tokens = hzm_tokenize(text)\n",
        "  clean_tokens = [hzm_lemmaitze(token) for token in text_tokens if token not in fa_stopwords]\n",
        "  return ' '.join(clean_tokens)\n"
      ],
      "metadata": {
        "id": "rmqkifvg2R7z"
      },
      "execution_count": 37,
      "outputs": []
    },
    {
      "cell_type": "code",
      "source": [
        "print(f'before clean : {comments.iloc[0]}')\n",
        "print(f'before clean : {comments.iloc[-1]}')\n",
        "\n",
        "\n",
        "comments = comments.apply(lambda x : my_toknizer(x))\n",
        "\n",
        "comments = comments.apply(lambda x : clean_persian_text(x))\n",
        "\n",
        "print(f'after clean : {comments.iloc[0]}')\n",
        "print(f'after clean : {comments.iloc[-1]}')"
      ],
      "metadata": {
        "colab": {
          "base_uri": "https://localhost:8080/"
        },
        "id": "bz3GJD8-2fLo",
        "outputId": "50c9cb67-83c8-4d8b-91ab-6240c6f20fc3"
      },
      "execution_count": 38,
      "outputs": [
        {
          "output_type": "stream",
          "name": "stdout",
          "text": [
            "before clean : ارزششو داشت\n",
            "before clean : خیلی خوبه\n",
            "after clean : ارزششو\n",
            "after clean : خوبه\n"
          ]
        }
      ]
    },
    {
      "cell_type": "code",
      "source": [
        "X_train, X_test, y_train, y_test = train_test_split(comments, labels, random_state=42, test_size=0.2)\n",
        "\n",
        "print(X_train.shape, X_test.shape)\n",
        "print(y_train.shape, y_test.shape)"
      ],
      "metadata": {
        "colab": {
          "base_uri": "https://localhost:8080/"
        },
        "id": "ltcvvAF_2fAf",
        "outputId": "a0baf7e9-24e4-487a-d557-57a1bfc75142"
      },
      "execution_count": 61,
      "outputs": [
        {
          "output_type": "stream",
          "name": "stdout",
          "text": [
            "(32051,) (8013,)\n",
            "(32051, 7) (8013, 7)\n"
          ]
        }
      ]
    },
    {
      "cell_type": "code",
      "source": [
        "tfidf = TfidfVectorizer()\n",
        "cat_boost = CatBoostClassifier(verbose=0)\n",
        "xg_boost = XGBClassifier(verbose=0)\n",
        "voting_clf = VotingClassifier(estimators=[('cat', cat_boost), ('xgb', xg_boost)], voting='soft')\n",
        "voting_pipeline = make_pipeline(tfidf, voting_clf)\n",
        "predict_probas = {}\n",
        "\n",
        "for label_col_name in y_train.columns: \n",
        "  print(10 * '*' + label_col_name + 10 * '*' )\n",
        "  voting_pipeline.fit(X_train, y_train[label_col_name])\n",
        "  voting_predict = voting_pipeline.predict(X_test)\n",
        "  predict_probas[label_col_name] = voting_pipeline.predict_proba(X_test)\n",
        "  print(f'Test F1-Score for {label_col_name} is {f1_score(y_test[label_col_name], voting_predict)}')\n",
        "  print(f'Test Accuracy for {label_col_name} is {accuracy_score(y_test[label_col_name], voting_predict)}')"
      ],
      "metadata": {
        "colab": {
          "base_uri": "https://localhost:8080/"
        },
        "id": "120RuuCSpnRO",
        "outputId": "0af6ccc4-42bb-4028-f66c-6af7f2025475"
      },
      "execution_count": 40,
      "outputs": [
        {
          "output_type": "stream",
          "name": "stdout",
          "text": [
            "**********price_value**********\n",
            "Test F1-Score for price_value is 0.8416370106761566\n",
            "Test Accuracy for price_value is 0.977786097591414\n",
            "**********fake_originality**********\n",
            "Test F1-Score for fake_originality is 0.7000000000000001\n",
            "Test Accuracy for fake_originality is 0.9992512167727443\n",
            "**********warranty**********\n",
            "Test F1-Score for warranty is 0.0\n",
            "Test Accuracy for warranty is 0.9996256083863722\n",
            "**********size**********\n",
            "Test F1-Score for size is 0.7826086956521738\n",
            "Test Accuracy for size is 0.993136153750156\n",
            "**********discrepancy**********\n",
            "Test F1-Score for discrepancy is 0.6875\n",
            "Test Accuracy for discrepancy is 0.9975040559091476\n",
            "**********flavor_odor**********\n",
            "Test F1-Score for flavor_odor is 0.9322033898305084\n",
            "Test Accuracy for flavor_odor is 0.9940097341819544\n",
            "**********expiration_date**********\n",
            "Test F1-Score for expiration_date is 0.6666666666666666\n",
            "Test Accuracy for expiration_date is 0.9996256083863722\n"
          ]
        }
      ]
    },
    {
      "cell_type": "code",
      "source": [
        "oversample = SMOTE()\n",
        "tfidf = TfidfVectorizer()\n",
        "cat_boost = CatBoostClassifier(verbose=0)\n",
        "xg_boost = XGBClassifier(verbose=0)\n",
        "voting_clf = VotingClassifier(estimators=[('cat', cat_boost), ('xgb', xg_boost)], voting='soft')\n",
        "smote_predict_probas = {}\n",
        "\n",
        "SMOTE_pipeline = imb_pipeline(RandomOverSampler(), SMOTE())\n",
        "\n",
        "X_train = tfidf.fit_transform(X_train)\n",
        "X_test = tfidf.transform(X_test)\n",
        "\n",
        "for label_col_name in y_train.columns: \n",
        "  print(10 * '*' + label_col_name + 10 * '*' )\n",
        "  smote_os_X_train, smote_os_y_train = SMOTE_pipeline.fit_resample(X_train, y_train[label_col_name].to_numpy())\n",
        "  voting_clf.fit(smote_os_X_train, smote_os_y_train)\n",
        "\n",
        "  voting_predict = voting_clf.predict(X_test)\n",
        "  smote_predict_probas[label_col_name] = voting_clf.predict_proba(X_test)\n",
        "\n",
        "  print(f'Test F1-Score for {label_col_name} is {f1_score(y_test[label_col_name], voting_predict)}')\n",
        "  print(f'Test Accuracy for {label_col_name} is {accuracy_score(y_test[label_col_name], voting_predict)}')"
      ],
      "metadata": {
        "colab": {
          "base_uri": "https://localhost:8080/"
        },
        "id": "BO3ROO0E2e6v",
        "outputId": "d0605587-4810-400e-a814-9ef3358d76fa"
      },
      "execution_count": 62,
      "outputs": [
        {
          "output_type": "stream",
          "name": "stdout",
          "text": [
            "**********price_value**********\n",
            "Test F1-Score for price_value is 0.8477011494252874\n",
            "Test Accuracy for price_value is 0.973542992636965\n",
            "**********fake_originality**********\n",
            "Test F1-Score for fake_originality is 0.6666666666666666\n",
            "Test Accuracy for fake_originality is 0.9988768251591165\n",
            "**********warranty**********\n",
            "Test F1-Score for warranty is 0.8\n",
            "Test Accuracy for warranty is 0.9998752027954574\n",
            "**********size**********\n",
            "Test F1-Score for size is 0.7692307692307693\n",
            "Test Accuracy for size is 0.9906402096593037\n",
            "**********discrepancy**********\n",
            "Test F1-Score for discrepancy is 0.6666666666666667\n",
            "Test Accuracy for discrepancy is 0.9965056782728067\n",
            "**********flavor_odor**********\n",
            "Test F1-Score for flavor_odor is 0.965893587994543\n",
            "Test Accuracy for flavor_odor is 0.9968800698864345\n",
            "**********expiration_date**********\n",
            "Test F1-Score for expiration_date is 0.06521739130434782\n",
            "Test Accuracy for expiration_date is 0.9892674404093348\n"
          ]
        }
      ]
    },
    {
      "cell_type": "code",
      "source": [
        "fig, axes = plt.subplots(2, 4, figsize=(30, 10))\n",
        "colors = plt.rcParams[\"axes.prop_cycle\"]()\n",
        "j=0\n",
        "for i in range(len(predict_probas)):\n",
        "    loc = (0 if j<4 else 1, j if j<4 else j-4)\n",
        "    col = y_test.columns[i]\n",
        "    fpr, tpr, thresholds = roc_curve(y_test[col].to_numpy().reshape(-1, 1\n",
        "                                                         ), predict_probas.get(col)[:, 1])\n",
        "    SMOTE_fpr, SMOTE_tpr, SMOTE_thresholds = roc_curve(y_test[col].to_numpy().reshape(-1, 1), smote_predict_probas.get(col)[:, 1])\n",
        "    _ = sns.lineplot(fpr, tpr, label=f\"ROC {col}\", ax=axes[loc], color=c)\n",
        "    c = next(colors)[\"color\"]\n",
        "    _ = sns.lineplot(SMOTE_fpr, SMOTE_tpr, label=f\"SMOTE ROC {col}\", ax=axes[loc], color=c)\n",
        "    axes[loc].set(xlabel=None)\n",
        "    axes[loc].set(ylabel=None)\n",
        "    j=j+1"
      ],
      "metadata": {
        "colab": {
          "base_uri": "https://localhost:8080/",
          "height": 592
        },
        "id": "qgN9e6-hKNSX",
        "outputId": "5373cf19-e862-4cf2-97e1-3905b57b7281"
      },
      "execution_count": 79,
      "outputs": [
        {
          "output_type": "display_data",
          "data": {
            "text/plain": [
              "<Figure size 2160x720 with 8 Axes>"
            ],
            "image/png": "[encoded data removed]"
          },
          "metadata": {
            "needs_background": "light"
          }
        }
      ]
    },
    {
      "cell_type": "code",
      "source": [],
      "metadata": {
        "id": "46VbRKtAT7nB"
      },
      "execution_count": null,
      "outputs": []
    }
  ]
}